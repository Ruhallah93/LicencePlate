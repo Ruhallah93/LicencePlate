{
 "cells": [
  {
   "cell_type": "markdown",
   "metadata": {
    "id": "fm3YcnI6zwyq"
   },
   "source": [
    "## Inspired by https://github.com/amirmgh1375/iranian-license-plate-recognition"
   ]
  },
  {
   "cell_type": "markdown",
   "metadata": {
    "id": "tib2AQXmx-TG"
   },
   "source": [
    "## Importing necessary libraries"
   ]
  },
  {
   "cell_type": "code",
   "execution_count": 1,
   "metadata": {
    "id": "op8XiB4t4pVX"
   },
   "outputs": [
    {
     "ename": "ModuleNotFoundError",
     "evalue": "No module named 'cv2'",
     "output_type": "error",
     "traceback": [
      "\u001b[0;31m---------------------------------------------------------------------------\u001b[0m",
      "\u001b[0;31mModuleNotFoundError\u001b[0m                       Traceback (most recent call last)",
      "\u001b[0;32m<ipython-input-1-7f3c23217be7>\u001b[0m in \u001b[0;36m<module>\u001b[0;34m\u001b[0m\n\u001b[1;32m      1\u001b[0m \u001b[0;32mimport\u001b[0m \u001b[0mnumpy\u001b[0m \u001b[0;32mas\u001b[0m \u001b[0mnp\u001b[0m\u001b[0;34m\u001b[0m\u001b[0;34m\u001b[0m\u001b[0m\n\u001b[0;32m----> 2\u001b[0;31m \u001b[0;32mimport\u001b[0m \u001b[0mcv2\u001b[0m\u001b[0;34m\u001b[0m\u001b[0;34m\u001b[0m\u001b[0m\n\u001b[0m\u001b[1;32m      3\u001b[0m \u001b[0;32mfrom\u001b[0m \u001b[0mgoogle\u001b[0m\u001b[0;34m.\u001b[0m\u001b[0mcolab\u001b[0m\u001b[0;34m.\u001b[0m\u001b[0mpatches\u001b[0m \u001b[0;32mimport\u001b[0m \u001b[0mcv2_imshow\u001b[0m\u001b[0;34m\u001b[0m\u001b[0;34m\u001b[0m\u001b[0m\n\u001b[1;32m      4\u001b[0m \u001b[0;32mimport\u001b[0m \u001b[0mrandom\u001b[0m\u001b[0;34m\u001b[0m\u001b[0;34m\u001b[0m\u001b[0m\n\u001b[1;32m      5\u001b[0m \u001b[0;32mfrom\u001b[0m \u001b[0mPIL\u001b[0m \u001b[0;32mimport\u001b[0m \u001b[0mImage\u001b[0m\u001b[0;34m\u001b[0m\u001b[0;34m\u001b[0m\u001b[0m\n",
      "\u001b[0;31mModuleNotFoundError\u001b[0m: No module named 'cv2'"
     ]
    }
   ],
   "source": [
    "import numpy as np\n",
    "import cv2\n",
    "from google.colab.patches import cv2_imshow\n",
    "import random\n",
    "from PIL import Image\n",
    "import os"
   ]
  },
  {
   "cell_type": "markdown",
   "metadata": {
    "id": "65JTTnpjyFH3"
   },
   "source": [
    "## Numbers and Letters"
   ]
  },
  {
   "cell_type": "code",
   "execution_count": 11,
   "metadata": {
    "id": "0G-Erjh4yVv0"
   },
   "outputs": [],
   "source": [
    "glyph_folder = \"/content/Glyphs/main\""
   ]
  },
  {
   "cell_type": "code",
   "execution_count": 12,
   "metadata": {
    "id": "Pn4UJHyu5Hxc"
   },
   "outputs": [],
   "source": [
    "# Characters of Letters and Numbers in Plates\n",
    "numbers = [str(i) for i in range(1, 4)]\n",
    "# letters = ['ALEF', 'BE', 'PE', 'TE', 'SE', 'JIM', 'CHE', 'HE', 'KHE', 'DAL', 'ZAL', 'RE', 'ZE', 'ZHE', 'SIN','SHIN', 'SAD', 'ZAD', 'TA', 'ZA', 'EIN', 'GHEIN', 'FE', 'GHAF', 'KAF', 'GAF', 'LAM', 'MIM', 'NON', 'VAV', 'HA', 'YE']\n",
    "letters = ['SIN', \"BE\"]\n"
   ]
  },
  {
   "cell_type": "markdown",
   "metadata": {
    "id": "nuYVoZAEuGIM"
   },
   "source": [
    "## Creating Glyphs (in case you already don't have them)"
   ]
  },
  {
   "cell_type": "code",
   "execution_count": 29,
   "metadata": {
    "id": "6JlT9nHiuONa"
   },
   "outputs": [],
   "source": [
    "threshold = 128 # pixels with value > thresh are considered 1 and 0 otherwise\n",
    "\n",
    "source_path = \"/content/SIN.png\" # place character images in this folder, naming convention is SIN.png for letter and 1.png for numbres \n",
    "\n",
    "if not os.path.exists(save_folder):\n",
    "  os.makedirs(save_folder)"
   ]
  },
  {
   "cell_type": "code",
   "execution_count": 30,
   "metadata": {
    "colab": {
     "base_uri": "https://localhost:8080/",
     "height": 134
    },
    "id": "g8SJwvNW4sb-",
    "outputId": "9f985d59-7fd7-4e0e-e7f0-9bf80585c77f"
   },
   "outputs": [
    {
     "data": {
      "image/png": "[encoded data removed]",
      "text/plain": [
       "<PIL.Image.Image image mode=L size=108x100 at 0x7F2928033D90>"
      ]
     },
     "metadata": {},
     "output_type": "display_data"
    },
    {
     "data": {
      "text/plain": [
       "True"
      ]
     },
     "execution_count": 30,
     "metadata": {},
     "output_type": "execute_result"
    }
   ],
   "source": [
    "img = cv2.imread(source_path) # Read in the image and convert to grayscale\n",
    "img_name = source_path.split(\"/\")[-1].split('.')[0]\n",
    "\n",
    "binary = cv2.cvtColor(img, cv2.COLOR_BGR2GRAY)\n",
    "binary = 255 * (binary > threshold).astype(np.uint8)\n",
    "cv2_imshow(binary)\n",
    "cv2.imwrite(\"/content/Glyphs/main/{}_trim.png\".format(img_name), binary) # Save the image"
   ]
  },
  {
   "cell_type": "markdown",
   "metadata": {
    "id": "plwmVB9vxrBE"
   },
   "source": [
    "## Generate Plates"
   ]
  },
  {
   "cell_type": "code",
   "execution_count": 34,
   "metadata": {
    "id": "E10ufl858524"
   },
   "outputs": [],
   "source": [
    "# Returns an array containing a plate's letter and numbers:\n",
    "# [number1, number2 , letter, number3, number4, number5]\n",
    "def getNewPlate ():\n",
    "    return [random.choice(numbers), \n",
    "            random.choice(numbers),\n",
    "            random.choice(letters), \n",
    "            random.choice(numbers), \n",
    "            random.choice(numbers),\n",
    "            random.choice(numbers),\n",
    "            random.choice(numbers),\n",
    "            random.choice(numbers)]\n",
    "    # return plateFromName('37GAF853')\n"
   ]
  },
  {
   "cell_type": "code",
   "execution_count": 35,
   "metadata": {
    "id": "kphG_1RG9Au5"
   },
   "outputs": [],
   "source": [
    "# Returns Address of a glyph image given font, and glyph name\n",
    "def getGlyphAddress(font, glyphName):\n",
    "    return os.path.join(glyph_folder, \"{}_trim.png\".format(glyphName))"
   ]
  },
  {
   "cell_type": "code",
   "execution_count": 85,
   "metadata": {
    "colab": {
     "base_uri": "https://localhost:8080/"
    },
    "id": "KgETeGbU9UQ8",
    "outputId": "29c426bb-cb4d-427b-f109-e4a4b8b3b55b"
   },
   "outputs": [
    {
     "data": {
      "text/plain": [
       "['2', '1', 'BE', '2', '1', '1', '1', '3']"
      ]
     },
     "execution_count": 85,
     "metadata": {},
     "output_type": "execute_result"
    }
   ],
   "source": [
    "# Generate a plate as an array\n",
    "# e.g. ['3', '7', 'GAF', '8', '5', '3']\n",
    "plate = getNewPlate()\n",
    "plate"
   ]
  },
  {
   "cell_type": "code",
   "execution_count": 86,
   "metadata": {
    "id": "L9CvSoDW9csU"
   },
   "outputs": [],
   "source": [
    "# Get Glyph images of plate characters\n",
    "glyphImages = []\n",
    "for glyph in plate:\n",
    "    glyphImage = Image.open(getGlyphAddress(\"main\", glyph)).convert(\"RGBA\")\n",
    "    # number.putalpha(255)\n",
    "    glyphImages.append(glyphImage)"
   ]
  },
  {
   "cell_type": "code",
   "execution_count": 87,
   "metadata": {
    "id": "W5MA90RS9pBS"
   },
   "outputs": [],
   "source": [
    "# Create a blank image with size of templates \n",
    "# and add the background and glyph images\n",
    "newPlate = Image.new('RGBA', (600,132), (0, 0, 0, 0))\n",
    "background = Image.open(\"/content/templates/template-base.png\").convert(\"RGBA\")\n",
    "newPlate.paste(background, (0,0))\n",
    "# adding glyph images with 11 pixel margin\n",
    "w = 0\n",
    "for i, glyph in enumerate(glyphImages[:-2]):\n",
    "    if i == 2:\n",
    "        newPlate.paste(glyph, (70 + w, 15), mask=glyph)\n",
    "    else: newPlate.paste(glyph, (70 + w, 10), mask=glyph)\n",
    "    w += glyph.size[0]\n",
    "\n",
    "# last two digits\n",
    "w = 0\n",
    "for i, glyph in enumerate(glyphImages[-2:]):\n",
    "  width, height = glyph.size[0], glyph.size[1]\n",
    "  resized_glyph = glyph.resize((int(width * 0.7), int(height * 0.7)))\n",
    "  newPlate.paste(resized_glyph, (485 + w, 38), mask=resized_glyph)\n",
    "  w += glyph.size[0] - 15\n",
    "\n",
    "_newPlate = newPlate.resize((312,70), Image.ANTIALIAS)\n",
    "_newPlate.save(\"new_plate.png\")"
   ]
  }
 ],
 "metadata": {
  "colab": {
   "collapsed_sections": [],
   "name": "process_glyphs.ipynb",
   "provenance": []
  },
  "kernelspec": {
   "display_name": "Python 3",
   "language": "python",
   "name": "python3"
  },
  "language_info": {
   "codemirror_mode": {
    "name": "ipython",
    "version": 3
   },
   "file_extension": ".py",
   "mimetype": "text/x-python",
   "name": "python",
   "nbconvert_exporter": "python",
   "pygments_lexer": "ipython3",
   "version": "3.8.8"
  }
 },
 "nbformat": 4,
 "nbformat_minor": 1
}
