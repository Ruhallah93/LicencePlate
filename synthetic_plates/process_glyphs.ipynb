{
 "cells": [
  {
   "cell_type": "markdown",
   "metadata": {
    "id": "fm3YcnI6zwyq"
   },
   "source": [
    "## Inspired by https://github.com/amirmgh1375/iranian-license-plate-recognition"
   ]
  },
  {
   "cell_type": "markdown",
   "metadata": {
    "id": "tib2AQXmx-TG"
   },
   "source": [
    "## Importing necessary libraries"
   ]
  },
  {
   "cell_type": "code",
   "execution_count": 1,
   "metadata": {
    "id": "op8XiB4t4pVX"
   },
   "outputs": [],
   "source": [
    "import numpy as np\n",
    "import cv2\n",
    "# from google.colab.patches import cv2_imshow\n",
    "import random\n",
    "from PIL import Image\n",
    "import os"
   ]
  },
  {
   "cell_type": "markdown",
   "metadata": {
    "id": "65JTTnpjyFH3"
   },
   "source": [
    "## Numbers and Letters"
   ]
  },
  {
   "cell_type": "code",
   "execution_count": 2,
   "metadata": {
    "id": "0G-Erjh4yVv0"
   },
   "outputs": [],
   "source": [
    "# glyph_folder = \"/content/glyph/b_roya\"\n",
    "glyph_folder = \"./Glyphs/b_roya\""
   ]
  },
  {
   "cell_type": "code",
   "execution_count": 3,
   "metadata": {
    "id": "Pn4UJHyu5Hxc"
   },
   "outputs": [],
   "source": [
    "# Characters of Letters and Numbers in Plates\n",
    "numbers = [str(i) for i in range(0, 10)]\n",
    "# letters = ['ALEF', 'BE', 'PE', 'TE', 'SE', 'JIM', 'CHE', 'HE', 'KHE', 'DAL', 'ZAL', 'RE', 'ZE', 'ZHE', 'SIN','SHIN', 'SAD', 'ZAD', 'TA', 'ZA', 'EIN', 'GHEIN', 'FE', 'GHAF', 'KAF', 'GAF', 'LAM', 'MIM', 'NON', 'VAV', 'HA', 'YE']\n",
    "letters = [\"BE\", \"TE\", \"JIM\", \"DAL\", \"RE\", \"SIN\", \"SAD\", \"TA\", \"EIN\", \"GHAF\", \"LAM\", \"MIM\", \"NON\", \"VAV\", \"HE\", \"YE\", \"WHEEL\"]\n"
   ]
  },
  {
   "cell_type": "markdown",
   "metadata": {
    "id": "nuYVoZAEuGIM"
   },
   "source": [
    "## Creating Glyphs (in case you already don't have them)"
   ]
  },
  {
   "cell_type": "code",
   "execution_count": null,
   "metadata": {
    "id": "6JlT9nHiuONa"
   },
   "outputs": [],
   "source": [
    "threshold = 128 # pixels with value > thresh are considered 1 and 0 otherwise\n",
    "\n",
    "source_path = \"/content/SIN.png\" # place character images in this folder, naming convention is SIN.png for letter and 1.png for numbres \n",
    "\n",
    "if not os.path.exists(save_folder):\n",
    "  os.makedirs(save_folder)"
   ]
  },
  {
   "cell_type": "code",
   "execution_count": null,
   "metadata": {
    "id": "g8SJwvNW4sb-"
   },
   "outputs": [],
   "source": [
    "img = cv2.imread(source_path) # Read in the image and convert to grayscale\n",
    "img_name = source_path.split(\"/\")[-1].split('.')[0]\n",
    "\n",
    "binary = cv2.cvtColor(img, cv2.COLOR_BGR2GRAY)\n",
    "binary = 255 * (binary > threshold).astype(np.uint8)\n",
    "cv2_imshow(binary)\n",
    "cv2.imwrite(\"/content/Glyphs/main/{}_trim.png\".format(img_name), binary) # Save the image"
   ]
  },
  {
   "cell_type": "markdown",
   "metadata": {
    "id": "plwmVB9vxrBE"
   },
   "source": [
    "## Generate Plates"
   ]
  },
  {
   "cell_type": "code",
   "execution_count": 4,
   "metadata": {
    "id": "E10ufl858524"
   },
   "outputs": [],
   "source": [
    "# Returns an array containing a plate's letter and numbers:\n",
    "# [number1, number2 , letter, number3, number4, number5]\n",
    "def getNewPlate ():\n",
    "    return [random.choice(numbers), \n",
    "            random.choice(numbers),\n",
    "            random.choice(letters), \n",
    "            random.choice(numbers), \n",
    "            random.choice(numbers),\n",
    "            random.choice(numbers),\n",
    "            random.choice(numbers),\n",
    "            random.choice(numbers)]\n",
    "    # return plateFromName('37GAF853')\n"
   ]
  },
  {
   "cell_type": "code",
   "execution_count": 5,
   "metadata": {
    "id": "kphG_1RG9Au5"
   },
   "outputs": [],
   "source": [
    "# Returns Address of a glyph image given font, and glyph name\n",
    "def getGlyphAddress(glyphName):\n",
    "    return os.path.join(glyph_folder, \"{}.png\".format(glyphName))"
   ]
  },
  {
   "cell_type": "code",
   "execution_count": 13,
   "metadata": {
    "colab": {
     "base_uri": "https://localhost:8080/"
    },
    "id": "KgETeGbU9UQ8",
    "outputId": "74941ae3-2486-4960-dc0d-fff6ecf742b0"
   },
   "outputs": [
    {
     "data": {
      "text/plain": [
       "['6', '6', 'HE', '0', '7', '8', '9', '4']"
      ]
     },
     "execution_count": 13,
     "metadata": {},
     "output_type": "execute_result"
    }
   ],
   "source": [
    "# Generate a plate as an array\n",
    "# e.g. ['3', '7', 'GAF', '8', '5', '3']\n",
    "plate = getNewPlate()\n",
    "plate"
   ]
  },
  {
   "cell_type": "code",
   "execution_count": 16,
   "metadata": {
    "id": "L9CvSoDW9csU"
   },
   "outputs": [],
   "source": [
    "# Get Glyph images of plate characters\n",
    "glyphImages = []\n",
    "for glyph in plate:\n",
    "    glyphImage = Image.open(getGlyphAddress(glyph)).convert(\"RGBA\")\n",
    "    # number.putalpha(255)\n",
    "    glyphImages.append(glyphImage)"
   ]
  },
  {
   "cell_type": "code",
   "execution_count": null,
   "metadata": {
    "id": "W5MA90RS9pBS"
   },
   "outputs": [],
   "source": [
    "# Create a blank image with size of templates \n",
    "# and add the background and glyph images\n",
    "newPlate = Image.new('RGBA', (600,132), (0, 0, 0, 0))\n",
    "\n",
    "if plate[2] in [\"TE\", \"EIN\"]:\n",
    "  background = Image.open(\"/content/templates/template-ommomi.png\").convert(\"RGBA\")\n",
    "else:\n",
    "  background = Image.open(\"/content/templates/template-base.png\").convert(\"RGBA\")\n",
    "\n",
    "newPlate.paste(background, (0,0))\n",
    "# adding glyph images with 11 pixel margin\n",
    "w = 0\n",
    "for i, glyph in enumerate(glyphImages[:-2]):\n",
    "    if i == 2:\n",
    "        newPlate.paste(glyph, (70 + w,30), mask=glyph)\n",
    "    else: newPlate.paste(glyph, (70 + w,25), mask=glyph)\n",
    "    w += glyph.size[0] + 3\n",
    "\n",
    "# last two digits\n",
    "w = 0\n",
    "for i, glyph in enumerate(glyphImages[-2:]):\n",
    "  width, height = glyph.size[0], glyph.size[1]\n",
    "  resized_glyph = glyph.resize((int(width * 0.75), int(height * 0.75)))\n",
    "  newPlate.paste(resized_glyph, (485 + w, 50), mask=resized_glyph)\n",
    "  w += glyph.size[0] - 10\n",
    "\n",
    "_newPlate = newPlate.resize((312,70), Image.ANTIALIAS)\n",
    "_newPlate.save(\"new_plate.png\")"
   ]
  }
 ],
 "metadata": {
  "colab": {
   "collapsed_sections": [],
   "name": "process_glyphs.ipynb",
   "provenance": []
  },
  "kernelspec": {
   "display_name": "Python 3",
   "language": "python",
   "name": "python3"
  },
  "language_info": {
   "codemirror_mode": {
    "name": "ipython",
    "version": 3
   },
   "file_extension": ".py",
   "mimetype": "text/x-python",
   "name": "python",
   "nbconvert_exporter": "python",
   "pygments_lexer": "ipython3",
   "version": "3.8.8"
  },
  "latex_envs": {
   "LaTeX_envs_menu_present": true,
   "autoclose": false,
   "autocomplete": true,
   "bibliofile": "biblio.bib",
   "cite_by": "apalike",
   "current_citInitial": 1,
   "eqLabelWithNumbers": true,
   "eqNumInitial": 1,
   "hotkeys": {
    "equation": "Ctrl-E",
    "itemize": "Ctrl-I"
   },
   "labels_anchors": false,
   "latex_user_defs": false,
   "report_style_numbering": false,
   "user_envs_cfg": false
  }
 },
 "nbformat": 4,
 "nbformat_minor": 1
}
